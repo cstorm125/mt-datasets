{
 "cells": [
  {
   "cell_type": "markdown",
   "metadata": {},
   "source": [
    "# Explore `skytrax-reviews-dataset`"
   ]
  },
  {
   "cell_type": "code",
   "execution_count": 1,
   "metadata": {},
   "outputs": [
    {
     "name": "stdout",
     "output_type": "stream",
     "text": [
      "airline.csv airport.csv lounge.csv  seat.csv\r\n"
     ]
    }
   ],
   "source": [
    "from plotnine import *\n",
    "import pandas as pd\n",
    "data_path = 'data/skytrax-reviews-dataset/data/'\n",
    "!ls $data_path"
   ]
  },
  {
   "cell_type": "code",
   "execution_count": 3,
   "metadata": {},
   "outputs": [
    {
     "name": "stdout",
     "output_type": "stream",
     "text": [
      "(41396, 20) (17721, 20) (2264, 21) (1258, 21)\n"
     ]
    }
   ],
   "source": [
    "airline = pd.read_csv(f'{data_path}airline.csv')\n",
    "airport = pd.read_csv(f'{data_path}airport.csv')\n",
    "lounge = pd.read_csv(f'{data_path}lounge.csv')\n",
    "seat = pd.read_csv(f'{data_path}seat.csv')\n",
    "\n",
    "print(airline.shape, airport.shape, lounge.shape, seat.shape)"
   ]
  },
  {
   "cell_type": "code",
   "execution_count": null,
   "metadata": {},
   "outputs": [],
   "source": []
  }
 ],
 "metadata": {
  "kernelspec": {
   "display_name": "Python 3",
   "language": "python",
   "name": "python3"
  },
  "language_info": {
   "codemirror_mode": {
    "name": "ipython",
    "version": 3
   },
   "file_extension": ".py",
   "mimetype": "text/x-python",
   "name": "python",
   "nbconvert_exporter": "python",
   "pygments_lexer": "ipython3",
   "version": "3.7.3"
  }
 },
 "nbformat": 4,
 "nbformat_minor": 2
}
