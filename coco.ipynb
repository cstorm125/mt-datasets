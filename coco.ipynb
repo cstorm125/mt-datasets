{
 "cells": [
  {
   "cell_type": "markdown",
   "metadata": {},
   "source": [
    "# COCO Caption"
   ]
  },
  {
   "cell_type": "code",
   "execution_count": 2,
   "metadata": {},
   "outputs": [],
   "source": [
    "import json\n",
    "from plotnine import *\n",
    "import pandas as pd\n",
    "from tqdm import tqdm_notebook\n",
    "import warnings\n",
    "warnings.filterwarnings('ignore')\n",
    "\n",
    "data_path= 'data/coco_caption/'"
   ]
  },
  {
   "cell_type": "code",
   "execution_count": 3,
   "metadata": {},
   "outputs": [
    {
     "data": {
      "text/plain": [
       "4"
      ]
     },
     "execution_count": 3,
     "metadata": {},
     "output_type": "execute_result"
    }
   ],
   "source": [
    "with open(f'{data_path}captions_train2014.json','r') as f:\n",
    "    coco_train = json.load(f)\n",
    "len(coco_train)"
   ]
  },
  {
   "cell_type": "code",
   "execution_count": 6,
   "metadata": {},
   "outputs": [
    {
     "data": {
      "text/plain": [
       "dict_keys(['info', 'images', 'licenses', 'annotations'])"
      ]
     },
     "execution_count": 6,
     "metadata": {},
     "output_type": "execute_result"
    }
   ],
   "source": [
    "coco_train.keys()"
   ]
  },
  {
   "cell_type": "code",
   "execution_count": 10,
   "metadata": {},
   "outputs": [
    {
     "name": "stdout",
     "output_type": "stream",
     "text": [
      "A very clean and well decorated empty bathroom\n",
      "A panoramic view of a kitchen and all of its appliances.\n",
      "A blue and white bathroom with butterfly themed wall tiles.\n",
      "A panoramic photo of a kitchen and dining room\n",
      "A graffiti-ed stop sign across the street from a red car \n",
      "A vandalized stop sign and a red beetle on the road\n",
      "A bathroom with a border of butterflies and blue paint on the walls above it.\n",
      "An angled view of a beautifully decorated bathroom.\n",
      "The two people are walking down the beach.\n",
      "A sink and a toilet inside a small bathroom.\n",
      "An empty kitchen with white and black appliances.\n",
      "A white square kitchen with tile floor that needs repairs \n",
      "The vanity contains two sinks with a towel for each.\n",
      "Several metal balls sit in the sand near a group of people.\n",
      "Two people carrying surf boards on a beach.\n",
      "A kitchen with brown cabinets, tile backsplash, and grey counters.\n",
      "A surfer, a woman, and a child walk on the beach.\n",
      "A few people sit on a dim transportation system. \n",
      "A person, protected from the rain by their umbrella, walks down the road.\n",
      "The bathroom with a toilet has an interesting sink.\n",
      "Two women preparing food in a kitchen, one at the sink and one at the table\n",
      "A white kitchen in a home with the light on.\n",
      "A cat stuck in a car with a slightly opened window.\n",
      "Two bicycles and a woman walking in front of a shop\n",
      "Green tiled backsplash highlighted by low overhead lighting.\n",
      "A bicycle is parked by a bench at night.\n",
      "A brown horse is grazing grass near a red house.\n",
      "A black car is near someone riding a bike.\n",
      "White pedestal sink and toilet located in a poorly lit bathroom.\n",
      "This is a pick-up game of shirts and skins basketball\n",
      "A toilet, sink, bathtub with shower, mirror and cabinet\n",
      "\n",
      "A kitchen with a countertop that includes an Apple phone.\n",
      "Two teenagers at a white sanded beach with surfboards.\n",
      "A surfer riding his bike to the beach.\n",
      "Clean indoor bathroom with tiled floor and good lighting.\n",
      "A closeup of a red fire hydrant including the chains.\n",
      "A man standing in the kitchen with his arms crossed\n",
      "A purple bus and a man dressed as a nun on a tall bicycle.\n",
      "An herb that is in front of a toaster oven.\n",
      "Lady carrying a purse walking along side a man.\n",
      "Clean bathroom that is brightly colored and has a window\n",
      "A wide angle view of the kitchen work area\n",
      "People standing around many silver round balls on the ground.\n",
      "A man working at a kitchen counter in a room illuminated by sunlight.\n",
      "A man standing in a kitchen with granite countertops.\n",
      "A skinny horse is grazing in a field.\n",
      "A person on a bicycle is riding in front of a car.  \n",
      "Seagulls flying overhead while trucks sit in a parking lot.\n",
      "A kitchen with a tile floor has cabinets with no doors, a dishwasher, a sink, and a refrigerator.\n",
      "A modern bathroom contains many glass and tile pieces\n",
      "A demonstration of a well maintained hotel bathroom\n",
      "A black cat making an angry face while sitting on the bathroom floor \n",
      "A clean, mediocre motel bathroom with a nice sink.\n",
      "A kitchen counter is illuminated by a hood light\n",
      "A city sidewalk is lined with lamp posts\n",
      "A bathroom with a TV near the mirror\n",
      "A public restroom toilet has been photographed in sepia\n",
      "Photo of a man riding an old styled bicycle near what appears to be the Golden Gate Bridge.\n",
      "A cat peeking out a car window that is rolled down\n",
      "There is some pet food in the floor in an empty kitchen\n",
      "A young boy surfing  in low waves.\n",
      "The top of a kitchen cabinet covered with brass pots and pans.\n",
      "A woman is shaving her face while sitting on a wooden bench.\n",
      "The sky is full of colorful kites along a mountain.\n",
      "A man rides a bicycle across the river. \n",
      "A man and a woman stand on the sidewalk lined with street lights.\n",
      "a bathroom with toilet and sink and blue wall\n",
      "A bathroom in white has a cupboard above the sink.\n",
      "A bike and a raft sit atop a boat on the water.\n",
      "a surfer rides his bike down the street\n",
      "Bicycles, cars and a trash can in a garage.\n",
      "A man in shorts standing at the kitchen sink.\n",
      "A cat standing on a car seat looking out the car window.\n",
      "A man jumping his bicycle onto a bench.\n",
      "young man with folded arms standing in the kitchen \n",
      "A man balancing a bike on a bench.\n",
      "Black and white image of two children paying attention. \n",
      "Silver balls are lined up in the sand as people mill about in the background.\n",
      "A compact car with bicycles mounted on the roof. \n",
      "Silver balls on sand with people walking around. \n",
      "A crisp neutral bathroom embellished with modern treatments.\n",
      "A kitchen scene with stainless steel appliance and a checkered pattern floor.\n",
      "A lady talking a self portrait in a fancy bathroom.\n",
      "A woman walking and talking on a cell phone.\n",
      "A modern hotel bathroom with accessories set out.\n",
      "A white kitchen without doors on the cabinets.\n",
      "A man on top of a snowy mountain with skis.\n",
      "A clean restroom with towels and washcloths laid out.\n",
      "A man standing in a white kitchen with his arms folded.\n",
      "A stuffed animal is laying on the bed by a window.\n",
      "A kitchen contains black countertops, brown cabinets, and a red and white tile blacksplash.\n",
      "A wooden toilet seat sits open in an empty bathroom.\n",
      "A decorated table covered with plates of food and vegetables. \n",
      "A couple at the beach walking with their surf boards.\n",
      "A bathroom with a sink shower and toilette.\n",
      "A phone and a computer on a kitchen counter.\n",
      "A person is taking a photo of a cat in a car.\n",
      "a picture of a man riding a bicycle at night\n",
      "A large hours is eating grass in a field. \n",
      "A blurry bike rider zooms past a new Mercedes. \n"
     ]
    }
   ],
   "source": [
    "for i in pd.DataFrame(coco_train['annotations'])['caption'][:100]:\n",
    "    print(i)"
   ]
  },
  {
   "cell_type": "code",
   "execution_count": null,
   "metadata": {},
   "outputs": [],
   "source": []
  }
 ],
 "metadata": {
  "kernelspec": {
   "display_name": "Python 3",
   "language": "python",
   "name": "python3"
  },
  "language_info": {
   "codemirror_mode": {
    "name": "ipython",
    "version": 3
   },
   "file_extension": ".py",
   "mimetype": "text/x-python",
   "name": "python",
   "nbconvert_exporter": "python",
   "pygments_lexer": "ipython3",
   "version": "3.6.8"
  }
 },
 "nbformat": 4,
 "nbformat_minor": 2
}
