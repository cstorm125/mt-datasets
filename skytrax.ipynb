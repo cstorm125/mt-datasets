{
 "cells": [
  {
   "cell_type": "markdown",
   "metadata": {},
   "source": [
    "# Explore `skytrax-reviews-dataset`"
   ]
  },
  {
   "cell_type": "code",
   "execution_count": 2,
   "metadata": {},
   "outputs": [],
   "source": [
    "from plotnine import *\n",
    "import pandas as pd\n",
    "data_path = 'data/skytrax-reviews-dataset/data/'"
   ]
  },
  {
   "cell_type": "code",
   "execution_count": 10,
   "metadata": {},
   "outputs": [],
   "source": [
    "df = pd.read_csv(f'{data_path}airport.csv')"
   ]
  },
  {
   "cell_type": "code",
   "execution_count": 11,
   "metadata": {},
   "outputs": [
    {
     "data": {
      "text/plain": [
       "0        A small very effective airport with few flight...\n",
       "1        This is a nice and modern airport at the momen...\n",
       "2        A very nice airy terminal - that seems modern ...\n",
       "3        AMS-AAL and quite satisfied with this regional...\n",
       "4        Very quick check-inn and security screening. N...\n",
       "5        Aalborg Lufthavn (AAL) is a smallish airport n...\n",
       "6        Nice big cafe on first floor with great view O...\n",
       "7        It's a depressing airport in a depressing town...\n",
       "8        Amazed to find that this little place gets rev...\n",
       "9        I've been travelling through this airport ever...\n",
       "10       Nice small friendly airport. Good transport li...\n",
       "11       This airport gets worse on a monthly basis. Th...\n",
       "12       Small airport, our arrival was on Saturday, Ju...\n",
       "13       I've been coming through Aberdeen airport for ...\n",
       "14       Airport is small and convenient when flights c...\n",
       "15       Aberdeen is my local airport for 40 years and ...\n",
       "16       Waiting for security check is a nightmare here...\n",
       "17       Truly awful airport. Toilets in airside arriva...\n",
       "18       I believe 2013 was a record year for ABZ in te...\n",
       "19       As a regular user of Aberdeen airport I can sa...\n",
       "20       I find trying to book flights virtually anywhe...\n",
       "21       We arrived for a holiday and had to stay in a ...\n",
       "22       One luggage carousel poor quality and expensiv...\n",
       "23       On Sunday 1st September I arrived at Aberdeen ...\n",
       "24       Just back into Aberdeen Airport from Zurich vi...\n",
       "25       I wish to echo the sentiments expressed in the...\n",
       "26       I am fed up of taking the bus to Edinburgh or ...\n",
       "27       As a regular business traveller commuting betw...\n",
       "28       Not too bad it was easy to check-in. One thing...\n",
       "29       Security efficient. Fire alarm went off just a...\n",
       "                               ...                        \n",
       "17691    In transit through ZRH a few days ago with (la...\n",
       "17692    We used the 'day rooms' overnight. As my wife ...\n",
       "17693    Transiting via Zurich used to be great. Thanks...\n",
       "17694    Zurich Airport was one of the world's best unt...\n",
       "17695    ZRH is a practical airport but not as good as ...\n",
       "17696    ZRH is an excellent airport with clear signage...\n",
       "17697    Good airport clean good facilities friendly st...\n",
       "17698    ZRH is quite good when leaving from Terminal A...\n",
       "17699    ZRH is ok if you fly with Star Alliance carrie...\n",
       "17700    I decided to transfer here instead of at Heath...\n",
       "17701    ZRH has a good foot traffic flow inside the ai...\n",
       "17702    Very good airport. The cows mooing on the trai...\n",
       "17703    Zurich is a bright and very clean airport. Con...\n",
       "17704    Efficiency cleanliness luxury. It is not a hug...\n",
       "17705    Chose Swiss for a flight from London to Stuttg...\n",
       "17706    For Richard Johnson's comment you should be aw...\n",
       "17707    Be aware when shopping at the Zurich Airport D...\n",
       "17708    Excellent. Quiet efficient clean well-equipped...\n",
       "17709    The airport is an excellent gateway to Switzer...\n",
       "17710    Now Switzerland is in Schengen the transfer th...\n",
       "17711    No queues passport officer said good morning. ...\n",
       "17712    Transited from LYS to ORD in ZRH on LX. Typica...\n",
       "17713    It's a big place and be aware that the signs i...\n",
       "17714    The airport was great. Clean efficient and wit...\n",
       "17715    I must concur with the review about the lack o...\n",
       "17716    I was all set to add to the praises heaped on ...\n",
       "17717    Probably the most clean the best logical layou...\n",
       "17718    Whilst this is certainly a reasonably good air...\n",
       "17719    The model of an excellent airport: excellent p...\n",
       "17720    Transfer from Long Haul E terminal to B and ba...\n",
       "Name: content, Length: 17721, dtype: object"
      ]
     },
     "execution_count": 11,
     "metadata": {},
     "output_type": "execute_result"
    }
   ],
   "source": [
    "df.content"
   ]
  },
  {
   "cell_type": "code",
   "execution_count": null,
   "metadata": {},
   "outputs": [],
   "source": []
  }
 ],
 "metadata": {
  "kernelspec": {
   "display_name": "Python 3",
   "language": "python",
   "name": "python3"
  },
  "language_info": {
   "codemirror_mode": {
    "name": "ipython",
    "version": 3
   },
   "file_extension": ".py",
   "mimetype": "text/x-python",
   "name": "python",
   "nbconvert_exporter": "python",
   "pygments_lexer": "ipython3",
   "version": "3.7.3"
  }
 },
 "nbformat": 4,
 "nbformat_minor": 2
}
