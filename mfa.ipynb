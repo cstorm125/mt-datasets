{
 "cells": [
  {
   "cell_type": "markdown",
   "metadata": {},
   "source": [
    "# Scrape [Ministry of Foreign Affairs](http://mfa.go.th/main/en/news3)"
   ]
  },
  {
   "cell_type": "markdown",
   "metadata": {},
   "source": [
    "The website contain news with en-th format:\n",
    "* EN: `http://mfa.go.th/main/en/news3/6886/74116-The-Minister-of-Foreign-Affairs-Attended-the-2nd-M.html`\n",
    "* TH: `http://mfa.go.th/main/th/news3/6886/74116-The-Minister-of-Foreign-Affairs-Attended-the-2nd-M.html`\n"
   ]
  },
  {
   "cell_type": "code",
   "execution_count": 2,
   "metadata": {},
   "outputs": [],
   "source": [
    "#export\n",
    "import requests\n",
    "from bs4 import BeautifulSoup\n",
    "import pandas as pd\n",
    "from tqdm import tqdm_notebook\n",
    "import time\n",
    "\n",
    "data_path= 'data/'"
   ]
  },
  {
   "cell_type": "markdown",
   "metadata": {},
   "source": [
    "## Get Categories"
   ]
  },
  {
   "cell_type": "code",
   "execution_count": 3,
   "metadata": {},
   "outputs": [
    {
     "data": {
      "text/html": [
       "<div>\n",
       "<style scoped>\n",
       "    .dataframe tbody tr th:only-of-type {\n",
       "        vertical-align: middle;\n",
       "    }\n",
       "\n",
       "    .dataframe tbody tr th {\n",
       "        vertical-align: top;\n",
       "    }\n",
       "\n",
       "    .dataframe thead th {\n",
       "        text-align: right;\n",
       "    }\n",
       "</style>\n",
       "<table border=\"1\" class=\"dataframe\">\n",
       "  <thead>\n",
       "    <tr style=\"text-align: right;\">\n",
       "      <th></th>\n",
       "      <th>cat_name</th>\n",
       "      <th>cat_url</th>\n",
       "    </tr>\n",
       "  </thead>\n",
       "  <tbody>\n",
       "    <tr>\n",
       "      <th>0</th>\n",
       "      <td>Top Stories</td>\n",
       "      <td>http://mfa.go.th/main/en/news3/6885</td>\n",
       "    </tr>\n",
       "    <tr>\n",
       "      <th>1</th>\n",
       "      <td>Press Release</td>\n",
       "      <td>http://mfa.go.th/main/en/news3/6886</td>\n",
       "    </tr>\n",
       "    <tr>\n",
       "      <th>2</th>\n",
       "      <td>Social &amp; Cultural News</td>\n",
       "      <td>http://mfa.go.th/main/en/news3/6888</td>\n",
       "    </tr>\n",
       "  </tbody>\n",
       "</table>\n",
       "</div>"
      ],
      "text/plain": [
       "                 cat_name                              cat_url\n",
       "0             Top Stories  http://mfa.go.th/main/en/news3/6885\n",
       "1           Press Release  http://mfa.go.th/main/en/news3/6886\n",
       "2  Social & Cultural News  http://mfa.go.th/main/en/news3/6888"
      ]
     },
     "execution_count": 3,
     "metadata": {},
     "output_type": "execute_result"
    }
   ],
   "source": [
    "#export\n",
    "cat_df = pd.DataFrame({\n",
    "    'cat_name':['Top Stories', 'Press Release', 'Social & Cultural News'],\n",
    "    'cat_url':['http://mfa.go.th/main/en/news3/6885',\n",
    "               'http://mfa.go.th/main/en/news3/6886',\n",
    "               'http://mfa.go.th/main/en/news3/6888']\n",
    "})\n",
    "cat_df"
   ]
  },
  {
   "cell_type": "code",
   "execution_count": 12,
   "metadata": {},
   "outputs": [],
   "source": [
    "#export\n",
    "max_pages = []\n",
    "for cat_url in tqdm_notebook(cat_df.cat_url):\n",
    "    page = requests.get(cat_url)\n",
    "    time.sleep(5) #time out\n",
    "    soup = BeautifulSoup(page.content, 'html.parser')\n",
    "    page_nb = soup.find_all('a', class_='paginate')\n",
    "    if len(page_nb)==0: \n",
    "        max_page = 1\n",
    "    else:\n",
    "        max_page = int(page_nb[-1].text)\n",
    "    max_pages.append(max_page)\n",
    "cat_df['max_page'] = max_pages"
   ]
  },
  {
   "cell_type": "code",
   "execution_count": 13,
   "metadata": {},
   "outputs": [],
   "source": [
    "cat_df.to_csv(f'{data_path}mfa_df.csv',index=False)\n",
    "cat_df"
   ]
  },
  {
   "cell_type": "code",
   "execution_count": 14,
   "metadata": {},
   "outputs": [],
   "source": [
    "#estimated sentences available\n",
    "cat_df.max_page.sum()*10*25"
   ]
  },
  {
   "cell_type": "code",
   "execution_count": null,
   "metadata": {},
   "outputs": [],
   "source": []
  }
 ],
 "metadata": {
  "kernelspec": {
   "display_name": "Python 3",
   "language": "python",
   "name": "python3"
  },
  "language_info": {
   "codemirror_mode": {
    "name": "ipython",
    "version": 3
   },
   "file_extension": ".py",
   "mimetype": "text/x-python",
   "name": "python",
   "nbconvert_exporter": "python",
   "pygments_lexer": "ipython3",
   "version": "3.6.8"
  }
 },
 "nbformat": 4,
 "nbformat_minor": 2
}
